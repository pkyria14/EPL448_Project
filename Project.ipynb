{
  "nbformat": 4,
  "nbformat_minor": 0,
  "metadata": {
    "colab": {
      "name": "Project.ipynb",
      "provenance": [],
      "collapsed_sections": [
        "lSZ9eR3V62Sl"
      ],
      "toc_visible": true,
      "include_colab_link": true
    },
    "kernelspec": {
      "name": "python3",
      "display_name": "Python 3"
    }
  },
  "cells": [
    {
      "cell_type": "markdown",
      "metadata": {
        "id": "view-in-github",
        "colab_type": "text"
      },
      "source": [
        "<a href=\"https://colab.research.google.com/github/schatz06/EPL448_Project/blob/main/Project.ipynb\" target=\"_parent\"><img src=\"https://colab.research.google.com/assets/colab-badge.svg\" alt=\"Open In Colab\"/></a>"
      ]
    },
    {
      "cell_type": "markdown",
      "metadata": {
        "id": "lSZ9eR3V62Sl"
      },
      "source": [
        "##Map Driver##"
      ]
    },
    {
      "cell_type": "code",
      "metadata": {
        "id": "H6gWIa3e64WR"
      },
      "source": [
        "#from google.colab import drive\r\n",
        "#drive.mount('/content/drive')"
      ],
      "execution_count": 40,
      "outputs": []
    },
    {
      "cell_type": "markdown",
      "metadata": {
        "id": "aEzG66o-6q4k"
      },
      "source": [
        "##Import Packages ## "
      ]
    },
    {
      "cell_type": "code",
      "metadata": {
        "id": "_w-zmPSb3hbo"
      },
      "source": [
        "import numpy as np \r\n",
        "import pandas as pd "
      ],
      "execution_count": 41,
      "outputs": []
    },
    {
      "cell_type": "markdown",
      "metadata": {
        "id": "qZVs8QhC692H"
      },
      "source": [
        "##Read Data##"
      ]
    },
    {
      "cell_type": "code",
      "metadata": {
        "id": "e8JFrF547AWh"
      },
      "source": [
        "train_data = pd.read_excel('Data_Train.xlsx') # read training data\r\n",
        "test_data  = pd.read_excel('Data_Test.xlsx') # read test data"
      ],
      "execution_count": 42,
      "outputs": []
    },
    {
      "cell_type": "markdown",
      "metadata": {
        "id": "T_HnEvEW9Azg"
      },
      "source": [
        "Check for corrupted or empty records"
      ]
    },
    {
      "cell_type": "code",
      "metadata": {
        "colab": {
          "base_uri": "https://localhost:8080/"
        },
        "id": "RCJcTvO28eMw",
        "outputId": "9e51b5ed-db80-47d3-89b0-f2aa3641e3bd"
      },
      "source": [
        "print(\"Problematic records in training data: \",train_data.isnull().sum().sum())\r\n",
        "print(\"Problematic records in test data: \",test_data.isnull().sum().sum())"
      ],
      "execution_count": 43,
      "outputs": [
        {
          "output_type": "stream",
          "text": [
            "Problematic records in training data:  0\n",
            "Problematic records in test data:  0\n"
          ],
          "name": "stdout"
        }
      ]
    },
    {
      "cell_type": "markdown",
      "metadata": {
        "id": "kI7MFZS_-qOk"
      },
      "source": [
        "##Train Data Preprocessing##"
      ]
    },
    {
      "cell_type": "markdown",
      "metadata": {
        "id": "NrRn8uZQF7sA"
      },
      "source": [
        "Reviews Normalization"
      ]
    },
    {
      "cell_type": "code",
      "metadata": {
        "id": "pAEN8VBk-ttV"
      },
      "source": [
        "train_data['Reviews'] = train_data.Reviews.apply(lambda r: float(r.split()[0])) # get only the review rule \r\n",
        "train_data['Reviews'] = (train_data.Reviews - train_data.Reviews.mean())/(train_data.Reviews.std()) # normalize reviews "
      ],
      "execution_count": 44,
      "outputs": []
    },
    {
      "cell_type": "markdown",
      "metadata": {
        "id": "1RVGKZheJ7tw"
      },
      "source": [
        "Ratings Normalization"
      ]
    },
    {
      "cell_type": "code",
      "metadata": {
        "id": "gfja3WZ6J_TZ"
      },
      "source": [
        "train_data['Ratings'] = train_data.Ratings.apply(lambda r: float(r.split()[0].replace(',',''))) # get only the rating \r\n",
        "train_data['Ratings'] = (train_data.Ratings - train_data.Ratings.mean())/(train_data.Ratings.std()) # normalize rating "
      ],
      "execution_count": 45,
      "outputs": []
    },
    {
      "cell_type": "markdown",
      "metadata": {
        "id": "0zfAjj-9NAjj"
      },
      "source": [
        "Drop Title & Author & Synopsis & Genre columns"
      ]
    },
    {
      "cell_type": "code",
      "metadata": {
        "id": "-rYTtCQMNDsQ",
        "colab": {
          "base_uri": "https://localhost:8080/"
        },
        "outputId": "d1175639-adb3-48cb-88db-89eb8d40f231"
      },
      "source": [
        "train_data.pop('Author')\r\n",
        "train_data.pop('Title')\r\n",
        "train_data.pop('Synopsis')\r\n",
        "train_data.pop('Genre')"
      ],
      "execution_count": 46,
      "outputs": [
        {
          "output_type": "execute_result",
          "data": {
            "text/plain": [
              "0         Action & Adventure (Books)\n",
              "1         Cinema & Broadcast (Books)\n",
              "2            International Relations\n",
              "3       Contemporary Fiction (Books)\n",
              "4              Photography Textbooks\n",
              "                    ...             \n",
              "6232            Anthropology (Books)\n",
              "6233    Contemporary Fiction (Books)\n",
              "6234                 Romance (Books)\n",
              "6235      Action & Adventure (Books)\n",
              "6236      Action & Adventure (Books)\n",
              "Name: Genre, Length: 6237, dtype: object"
            ]
          },
          "metadata": {
            "tags": []
          },
          "execution_count": 46
        }
      ]
    },
    {
      "cell_type": "markdown",
      "metadata": {
        "id": "q0BSBRuKP_ro"
      },
      "source": [
        "Edition Normalization / Drop edition"
      ]
    },
    {
      "cell_type": "code",
      "metadata": {
        "id": "wk1NmTiZQC0S",
        "colab": {
          "base_uri": "https://localhost:8080/"
        },
        "outputId": "feddd165-e4c0-45a0-f51e-9eee9b8ef518"
      },
      "source": [
        "#train_data['Edition'] = train_data.Edition.apply(lambda r: r.split(',')[0]) # get only the type of book e.g Paperback or Hardcover\r\n",
        "#train_data= pd.get_dummies(train_data, columns= ['Edition'])\r\n",
        "train_data.pop('Edition')"
      ],
      "execution_count": 47,
      "outputs": [
        {
          "output_type": "execute_result",
          "data": {
            "text/plain": [
              "0       Paperback,– 10 Mar 2016\n",
              "1        Paperback,– 7 Nov 2012\n",
              "2       Paperback,– 25 Feb 1982\n",
              "3        Paperback,– 5 Oct 2017\n",
              "4       Hardcover,– 10 Oct 2006\n",
              "                 ...           \n",
              "6232     Paperback,– 8 Aug 2018\n",
              "6233    Paperback,– 21 Nov 2016\n",
              "6234     Paperback,– 8 Jun 2006\n",
              "6235    Paperback,– 15 Jan 2015\n",
              "6236    Paperback,– 21 Dec 2016\n",
              "Name: Edition, Length: 6237, dtype: object"
            ]
          },
          "metadata": {
            "tags": []
          },
          "execution_count": 47
        }
      ]
    },
    {
      "cell_type": "markdown",
      "metadata": {
        "id": "CJPpUrNZilDE"
      },
      "source": [
        "Book Category Normalization / Extract Categories"
      ]
    },
    {
      "cell_type": "code",
      "metadata": {
        "id": "2YMm7wBoi0Bf"
      },
      "source": [
        "train_data= pd.get_dummies(train_data, columns= ['BookCategory'])"
      ],
      "execution_count": 48,
      "outputs": []
    },
    {
      "cell_type": "markdown",
      "metadata": {
        "id": "J9_VvYKToPrq"
      },
      "source": [
        "Finish training inputs(z)"
      ]
    },
    {
      "cell_type": "code",
      "metadata": {
        "id": "Bd__7oEcnzIe"
      },
      "source": [
        "z = train_data"
      ],
      "execution_count": 49,
      "outputs": []
    },
    {
      "cell_type": "code",
      "metadata": {
        "colab": {
          "base_uri": "https://localhost:8080/",
          "height": 261
        },
        "id": "u68uHxTKn8pS",
        "outputId": "5f5f3aa5-89e7-4f07-f993-14ecdf8544a6"
      },
      "source": [
        "train_data.head()"
      ],
      "execution_count": 50,
      "outputs": [
        {
          "output_type": "execute_result",
          "data": {
            "text/html": [
              "<div>\n",
              "<style scoped>\n",
              "    .dataframe tbody tr th:only-of-type {\n",
              "        vertical-align: middle;\n",
              "    }\n",
              "\n",
              "    .dataframe tbody tr th {\n",
              "        vertical-align: top;\n",
              "    }\n",
              "\n",
              "    .dataframe thead th {\n",
              "        text-align: right;\n",
              "    }\n",
              "</style>\n",
              "<table border=\"1\" class=\"dataframe\">\n",
              "  <thead>\n",
              "    <tr style=\"text-align: right;\">\n",
              "      <th></th>\n",
              "      <th>Reviews</th>\n",
              "      <th>Ratings</th>\n",
              "      <th>Price</th>\n",
              "      <th>BookCategory_Action &amp; Adventure</th>\n",
              "      <th>BookCategory_Arts, Film &amp; Photography</th>\n",
              "      <th>BookCategory_Biographies, Diaries &amp; True Accounts</th>\n",
              "      <th>BookCategory_Comics &amp; Mangas</th>\n",
              "      <th>BookCategory_Computing, Internet &amp; Digital Media</th>\n",
              "      <th>BookCategory_Crime, Thriller &amp; Mystery</th>\n",
              "      <th>BookCategory_Humour</th>\n",
              "      <th>BookCategory_Language, Linguistics &amp; Writing</th>\n",
              "      <th>BookCategory_Politics</th>\n",
              "      <th>BookCategory_Romance</th>\n",
              "      <th>BookCategory_Sports</th>\n",
              "    </tr>\n",
              "  </thead>\n",
              "  <tbody>\n",
              "    <tr>\n",
              "      <th>0</th>\n",
              "      <td>-0.442568</td>\n",
              "      <td>-0.186568</td>\n",
              "      <td>220.00</td>\n",
              "      <td>1</td>\n",
              "      <td>0</td>\n",
              "      <td>0</td>\n",
              "      <td>0</td>\n",
              "      <td>0</td>\n",
              "      <td>0</td>\n",
              "      <td>0</td>\n",
              "      <td>0</td>\n",
              "      <td>0</td>\n",
              "      <td>0</td>\n",
              "      <td>0</td>\n",
              "    </tr>\n",
              "    <tr>\n",
              "      <th>1</th>\n",
              "      <td>-0.593511</td>\n",
              "      <td>-0.146567</td>\n",
              "      <td>202.93</td>\n",
              "      <td>0</td>\n",
              "      <td>0</td>\n",
              "      <td>1</td>\n",
              "      <td>0</td>\n",
              "      <td>0</td>\n",
              "      <td>0</td>\n",
              "      <td>0</td>\n",
              "      <td>0</td>\n",
              "      <td>0</td>\n",
              "      <td>0</td>\n",
              "      <td>0</td>\n",
              "    </tr>\n",
              "    <tr>\n",
              "      <th>2</th>\n",
              "      <td>0.764977</td>\n",
              "      <td>-0.199902</td>\n",
              "      <td>299.00</td>\n",
              "      <td>0</td>\n",
              "      <td>0</td>\n",
              "      <td>0</td>\n",
              "      <td>0</td>\n",
              "      <td>0</td>\n",
              "      <td>0</td>\n",
              "      <td>1</td>\n",
              "      <td>0</td>\n",
              "      <td>0</td>\n",
              "      <td>0</td>\n",
              "      <td>0</td>\n",
              "    </tr>\n",
              "    <tr>\n",
              "      <th>3</th>\n",
              "      <td>-0.291625</td>\n",
              "      <td>-0.153234</td>\n",
              "      <td>180.00</td>\n",
              "      <td>0</td>\n",
              "      <td>0</td>\n",
              "      <td>0</td>\n",
              "      <td>0</td>\n",
              "      <td>0</td>\n",
              "      <td>1</td>\n",
              "      <td>0</td>\n",
              "      <td>0</td>\n",
              "      <td>0</td>\n",
              "      <td>0</td>\n",
              "      <td>0</td>\n",
              "    </tr>\n",
              "    <tr>\n",
              "      <th>4</th>\n",
              "      <td>1.066863</td>\n",
              "      <td>-0.233236</td>\n",
              "      <td>965.62</td>\n",
              "      <td>0</td>\n",
              "      <td>1</td>\n",
              "      <td>0</td>\n",
              "      <td>0</td>\n",
              "      <td>0</td>\n",
              "      <td>0</td>\n",
              "      <td>0</td>\n",
              "      <td>0</td>\n",
              "      <td>0</td>\n",
              "      <td>0</td>\n",
              "      <td>0</td>\n",
              "    </tr>\n",
              "  </tbody>\n",
              "</table>\n",
              "</div>"
            ],
            "text/plain": [
              "    Reviews   Ratings  ...  BookCategory_Romance  BookCategory_Sports\n",
              "0 -0.442568 -0.186568  ...                     0                    0\n",
              "1 -0.593511 -0.146567  ...                     0                    0\n",
              "2  0.764977 -0.199902  ...                     0                    0\n",
              "3 -0.291625 -0.153234  ...                     0                    0\n",
              "4  1.066863 -0.233236  ...                     0                    0\n",
              "\n",
              "[5 rows x 14 columns]"
            ]
          },
          "metadata": {
            "tags": []
          },
          "execution_count": 50
        }
      ]
    },
    {
      "cell_type": "markdown",
      "metadata": {
        "id": "8HlOsPmfomM_"
      },
      "source": [
        "##Test Data Preprocessing##"
      ]
    },
    {
      "cell_type": "markdown",
      "metadata": {
        "id": "p6g0wsKgpNB7"
      },
      "source": [
        "Reviews Normalization"
      ]
    },
    {
      "cell_type": "code",
      "metadata": {
        "id": "xHvVloNcowkL"
      },
      "source": [
        "test_data['Reviews'] = test_data.Reviews.apply(lambda r: float(r.split()[0])) # get only the review rule \r\n",
        "test_data['Reviews'] = (test_data.Reviews - test_data.Reviews.mean())/(test_data.Reviews.std()) # normalize reviews "
      ],
      "execution_count": 51,
      "outputs": []
    },
    {
      "cell_type": "markdown",
      "metadata": {
        "id": "6AhUA_qjpP0_"
      },
      "source": [
        "Ratings Normalization"
      ]
    },
    {
      "cell_type": "code",
      "metadata": {
        "id": "usjQWRpBpRvG"
      },
      "source": [
        "test_data['Ratings'] = test_data.Ratings.apply(lambda r: float(r.split()[0].replace(',',''))) # get only the rating \r\n",
        "test_data['Ratings'] = (test_data.Ratings - test_data.Ratings.mean())/(test_data.Ratings.std()) # normalize rating "
      ],
      "execution_count": 52,
      "outputs": []
    },
    {
      "cell_type": "markdown",
      "metadata": {
        "id": "ioo8hl6apgRW"
      },
      "source": [
        "Drop Title & Author & Synopsis & Genre columns"
      ]
    },
    {
      "cell_type": "code",
      "metadata": {
        "colab": {
          "base_uri": "https://localhost:8080/"
        },
        "id": "nPuONcnkpgu5",
        "outputId": "3e4577c2-e444-4a9a-eb33-46ac2a028746"
      },
      "source": [
        "test_data.pop('Author')\r\n",
        "test_data.pop('Title')\r\n",
        "test_data.pop('Synopsis')\r\n",
        "test_data.pop('Genre')"
      ],
      "execution_count": 53,
      "outputs": [
        {
          "output_type": "execute_result",
          "data": {
            "text/plain": [
              "0                            Short Stories (Books)\n",
              "1                      Operating Systems Textbooks\n",
              "2                                  Romance (Books)\n",
              "3       Programming & Software Development (Books)\n",
              "4                              Linguistics (Books)\n",
              "                           ...                    \n",
              "1555                                        Design\n",
              "1556                  Children's Reference (Books)\n",
              "1557                                Humour (Books)\n",
              "1558                         United States History\n",
              "1559                                  Dictionaries\n",
              "Name: Genre, Length: 1560, dtype: object"
            ]
          },
          "metadata": {
            "tags": []
          },
          "execution_count": 53
        }
      ]
    },
    {
      "cell_type": "markdown",
      "metadata": {
        "id": "JU-2_lAVpo3b"
      },
      "source": [
        "Edition Normalization / Drop edition "
      ]
    },
    {
      "cell_type": "code",
      "metadata": {
        "colab": {
          "base_uri": "https://localhost:8080/"
        },
        "id": "tXHrEkgEpq7A",
        "outputId": "77ff8a57-2cff-410e-a96b-f6f108fe1d75"
      },
      "source": [
        "#test_data['Edition'] = test_data.Edition.apply(lambda r: r.split(',')[0]) # get only the type of book e.g Paperback or Hardcover\r\n",
        "#test_data= pd.get_dummies(test_data, columns= ['Edition'])\r\n",
        "test_data.pop('Edition')"
      ],
      "execution_count": 54,
      "outputs": [
        {
          "output_type": "execute_result",
          "data": {
            "text/plain": [
              "0       Mass Market Paperback,– 1 Oct 1986\n",
              "1          Paperback,– Import, 26 Apr 2018\n",
              "2                  Paperback,– 17 Mar 2011\n",
              "3                         Paperback,– 2016\n",
              "4                  Paperback,– 26 Dec 2011\n",
              "                       ...                \n",
              "1555               Paperback,– 14 Apr 2011\n",
              "1556                Paperback,– 8 May 2013\n",
              "1557                Paperback,– 6 Sep 2011\n",
              "1558               Paperback,– 22 Sep 2009\n",
              "1559               Paperback,– 16 Sep 2016\n",
              "Name: Edition, Length: 1560, dtype: object"
            ]
          },
          "metadata": {
            "tags": []
          },
          "execution_count": 54
        }
      ]
    },
    {
      "cell_type": "markdown",
      "metadata": {
        "id": "RguWaZQXp3Iz"
      },
      "source": [
        "Book Category Normalization / Extract Categories"
      ]
    },
    {
      "cell_type": "code",
      "metadata": {
        "id": "iSU2ovyBp3ju"
      },
      "source": [
        "test_data= pd.get_dummies(test_data, columns= ['BookCategory'])"
      ],
      "execution_count": 55,
      "outputs": []
    },
    {
      "cell_type": "markdown",
      "metadata": {
        "id": "PgJqI6IKqDOg"
      },
      "source": [
        "Finish Test set Inputs"
      ]
    },
    {
      "cell_type": "code",
      "metadata": {
        "colab": {
          "base_uri": "https://localhost:8080/",
          "height": 0
        },
        "id": "XoEkL8CKqFGI",
        "outputId": "c25af6c0-3a21-4e9a-f9d3-f91d5a7da177"
      },
      "source": [
        "z_test = test_data\r\n",
        "z_test.head()"
      ],
      "execution_count": 56,
      "outputs": [
        {
          "output_type": "execute_result",
          "data": {
            "text/html": [
              "<div>\n",
              "<style scoped>\n",
              "    .dataframe tbody tr th:only-of-type {\n",
              "        vertical-align: middle;\n",
              "    }\n",
              "\n",
              "    .dataframe tbody tr th {\n",
              "        vertical-align: top;\n",
              "    }\n",
              "\n",
              "    .dataframe thead th {\n",
              "        text-align: right;\n",
              "    }\n",
              "</style>\n",
              "<table border=\"1\" class=\"dataframe\">\n",
              "  <thead>\n",
              "    <tr style=\"text-align: right;\">\n",
              "      <th></th>\n",
              "      <th>Reviews</th>\n",
              "      <th>Ratings</th>\n",
              "      <th>BookCategory_Action &amp; Adventure</th>\n",
              "      <th>BookCategory_Arts, Film &amp; Photography</th>\n",
              "      <th>BookCategory_Biographies, Diaries &amp; True Accounts</th>\n",
              "      <th>BookCategory_Comics &amp; Mangas</th>\n",
              "      <th>BookCategory_Computing, Internet &amp; Digital Media</th>\n",
              "      <th>BookCategory_Crime, Thriller &amp; Mystery</th>\n",
              "      <th>BookCategory_Humour</th>\n",
              "      <th>BookCategory_Language, Linguistics &amp; Writing</th>\n",
              "      <th>BookCategory_Politics</th>\n",
              "      <th>BookCategory_Romance</th>\n",
              "      <th>BookCategory_Sports</th>\n",
              "    </tr>\n",
              "  </thead>\n",
              "  <tbody>\n",
              "    <tr>\n",
              "      <th>0</th>\n",
              "      <td>0.140178</td>\n",
              "      <td>5.627725</td>\n",
              "      <td>0</td>\n",
              "      <td>0</td>\n",
              "      <td>0</td>\n",
              "      <td>0</td>\n",
              "      <td>0</td>\n",
              "      <td>1</td>\n",
              "      <td>0</td>\n",
              "      <td>0</td>\n",
              "      <td>0</td>\n",
              "      <td>0</td>\n",
              "      <td>0</td>\n",
              "    </tr>\n",
              "    <tr>\n",
              "      <th>1</th>\n",
              "      <td>1.038851</td>\n",
              "      <td>-0.198467</td>\n",
              "      <td>0</td>\n",
              "      <td>0</td>\n",
              "      <td>0</td>\n",
              "      <td>0</td>\n",
              "      <td>1</td>\n",
              "      <td>0</td>\n",
              "      <td>0</td>\n",
              "      <td>0</td>\n",
              "      <td>0</td>\n",
              "      <td>0</td>\n",
              "      <td>0</td>\n",
              "    </tr>\n",
              "    <tr>\n",
              "      <th>2</th>\n",
              "      <td>1.038851</td>\n",
              "      <td>-0.180241</td>\n",
              "      <td>0</td>\n",
              "      <td>0</td>\n",
              "      <td>0</td>\n",
              "      <td>0</td>\n",
              "      <td>0</td>\n",
              "      <td>0</td>\n",
              "      <td>0</td>\n",
              "      <td>0</td>\n",
              "      <td>0</td>\n",
              "      <td>1</td>\n",
              "      <td>0</td>\n",
              "    </tr>\n",
              "    <tr>\n",
              "      <th>3</th>\n",
              "      <td>-0.309159</td>\n",
              "      <td>-0.137714</td>\n",
              "      <td>0</td>\n",
              "      <td>0</td>\n",
              "      <td>0</td>\n",
              "      <td>0</td>\n",
              "      <td>1</td>\n",
              "      <td>0</td>\n",
              "      <td>0</td>\n",
              "      <td>0</td>\n",
              "      <td>0</td>\n",
              "      <td>0</td>\n",
              "      <td>0</td>\n",
              "    </tr>\n",
              "    <tr>\n",
              "      <th>4</th>\n",
              "      <td>0.140178</td>\n",
              "      <td>-0.149865</td>\n",
              "      <td>0</td>\n",
              "      <td>0</td>\n",
              "      <td>0</td>\n",
              "      <td>0</td>\n",
              "      <td>0</td>\n",
              "      <td>0</td>\n",
              "      <td>0</td>\n",
              "      <td>1</td>\n",
              "      <td>0</td>\n",
              "      <td>0</td>\n",
              "      <td>0</td>\n",
              "    </tr>\n",
              "  </tbody>\n",
              "</table>\n",
              "</div>"
            ],
            "text/plain": [
              "    Reviews   Ratings  ...  BookCategory_Romance  BookCategory_Sports\n",
              "0  0.140178  5.627725  ...                     0                    0\n",
              "1  1.038851 -0.198467  ...                     0                    0\n",
              "2  1.038851 -0.180241  ...                     1                    0\n",
              "3 -0.309159 -0.137714  ...                     0                    0\n",
              "4  0.140178 -0.149865  ...                     0                    0\n",
              "\n",
              "[5 rows x 13 columns]"
            ]
          },
          "metadata": {
            "tags": []
          },
          "execution_count": 56
        }
      ]
    },
    {
      "cell_type": "markdown",
      "metadata": {
        "id": "PAt51RdLsNCW"
      },
      "source": [
        "##Training##"
      ]
    },
    {
      "cell_type": "markdown",
      "metadata": {
        "id": "dnrYQgZXXyF-"
      },
      "source": [
        "Split Train Set in Train  & Validation Sets(70/30)"
      ]
    },
    {
      "cell_type": "code",
      "metadata": {
        "id": "_tMNNUcNVYXb"
      },
      "source": [
        "############# inputs to the neural network #######################\r\n",
        "train_set = z.sample(frac=0.7,random_state=200)\r\n",
        "validation_set = z.drop(train_set.index)\r\n",
        "######################### normalized target outputs for training set##########\r\n",
        "y_train_set = train_set.pop('Price')\r\n",
        "y_train_set_mean = y_train_set.mean()\r\n",
        "y_train_set_std = y_train_set.std()\r\n",
        "y_train_set = (y_train_set - y_train_set_mean) / y_train_set_std\r\n",
        "########################## normalized target outputs for validation set #######\r\n",
        "y_validation_set = validation_set.pop('Price')\r\n",
        "y_validation_set_mean = y_validation_set.mean()\r\n",
        "y_validation_set_std = y_validation_set.std()\r\n",
        "y_validation_set = (y_validation_set - y_validation_set_mean) / y_validation_set_std"
      ],
      "execution_count": 57,
      "outputs": []
    },
    {
      "cell_type": "markdown",
      "metadata": {
        "id": "jPs5PXTyeT3_"
      },
      "source": [
        "Import tensorflow"
      ]
    },
    {
      "cell_type": "code",
      "metadata": {
        "id": "gquwg7t6eWD3",
        "outputId": "3809167d-f56f-44d2-e1cc-cce3d7d6f062",
        "colab": {
          "base_uri": "https://localhost:8080/"
        }
      },
      "source": [
        "%tensorflow_version 2.x  # this line is not required unless you are in a notebook\r\n",
        "# TensorFlow and tf.keras\r\n",
        "import tensorflow as tf\r\n",
        "from tensorflow import keras"
      ],
      "execution_count": 60,
      "outputs": [
        {
          "output_type": "stream",
          "text": [
            "`%tensorflow_version` only switches the major version: 1.x or 2.x.\n",
            "You set: `2.x  # this line is not required unless you are in a notebook`. This will be interpreted as: `2.x`.\n",
            "\n",
            "\n",
            "TensorFlow 2.x selected.\n"
          ],
          "name": "stdout"
        }
      ]
    },
    {
      "cell_type": "markdown",
      "metadata": {
        "id": "tfWtmH-MeyD4"
      },
      "source": [
        "Build model/neural network"
      ]
    },
    {
      "cell_type": "code",
      "metadata": {
        "id": "bh0gL1QYe0Ya"
      },
      "source": [
        "model = keras.Sequential([\r\n",
        "    keras.layers.Dense(52,input_shape=(13,)),  # input layer (1)\r\n",
        "    keras.layers.Dense(52, activation='sigmoid'),  # hidden layer (2)\r\n",
        "    keras.layers.Dense(1, activation='sigmoid') # output layer (3)\r\n",
        "])"
      ],
      "execution_count": 93,
      "outputs": []
    },
    {
      "cell_type": "markdown",
      "metadata": {
        "id": "6QeZDiW7fzpS"
      },
      "source": [
        "Compile model"
      ]
    },
    {
      "cell_type": "code",
      "metadata": {
        "id": "JnxNcAk-f1OB"
      },
      "source": [
        "model.compile(optimizer='adam',\r\n",
        "              loss='mean_squared_error',\r\n",
        "              metrics=['accuracy'])"
      ],
      "execution_count": 94,
      "outputs": []
    },
    {
      "cell_type": "markdown",
      "metadata": {
        "id": "L7cm4ZYQhf8k"
      },
      "source": [
        "Model Training"
      ]
    },
    {
      "cell_type": "code",
      "metadata": {
        "id": "4k2sL7RMlAVK",
        "outputId": "bee597e5-d2ba-48e8-d9fc-74e56a05bbee",
        "colab": {
          "base_uri": "https://localhost:8080/"
        }
      },
      "source": [
        "model.summary()"
      ],
      "execution_count": 92,
      "outputs": [
        {
          "output_type": "stream",
          "text": [
            "Model: \"sequential_7\"\n",
            "_________________________________________________________________\n",
            "Layer (type)                 Output Shape              Param #   \n",
            "=================================================================\n",
            "dense_17 (Dense)             (None, 13)                182       \n",
            "_________________________________________________________________\n",
            "dense_18 (Dense)             (None, 52)                728       \n",
            "_________________________________________________________________\n",
            "dense_19 (Dense)             (None, 1)                 53        \n",
            "=================================================================\n",
            "Total params: 963\n",
            "Trainable params: 963\n",
            "Non-trainable params: 0\n",
            "_________________________________________________________________\n"
          ],
          "name": "stdout"
        }
      ]
    },
    {
      "cell_type": "code",
      "metadata": {
        "id": "ox7_QFszhhZy",
        "outputId": "e570244e-71bc-4201-aec0-fb399d8eecf8",
        "colab": {
          "base_uri": "https://localhost:8080/"
        }
      },
      "source": [
        "model.fit(train_set, y_train_set, epochs=100) "
      ],
      "execution_count": 95,
      "outputs": [
        {
          "output_type": "stream",
          "text": [
            "Epoch 1/100\n",
            "137/137 [==============================] - 1s 1ms/step - loss: 1.0140 - accuracy: 0.0000e+00\n",
            "Epoch 2/100\n",
            "137/137 [==============================] - 0s 1ms/step - loss: 0.8759 - accuracy: 0.0000e+00\n",
            "Epoch 3/100\n",
            "137/137 [==============================] - 0s 1ms/step - loss: 0.8534 - accuracy: 0.0000e+00\n",
            "Epoch 4/100\n",
            "137/137 [==============================] - 0s 1ms/step - loss: 0.9498 - accuracy: 0.0000e+00\n",
            "Epoch 5/100\n",
            "137/137 [==============================] - 0s 1ms/step - loss: 0.8800 - accuracy: 0.0000e+00\n",
            "Epoch 6/100\n",
            "137/137 [==============================] - 0s 1ms/step - loss: 0.9641 - accuracy: 0.0000e+00\n",
            "Epoch 7/100\n",
            "137/137 [==============================] - 0s 1ms/step - loss: 0.8883 - accuracy: 0.0000e+00\n",
            "Epoch 8/100\n",
            "137/137 [==============================] - 0s 1ms/step - loss: 0.7966 - accuracy: 0.0000e+00\n",
            "Epoch 9/100\n",
            "137/137 [==============================] - 0s 1ms/step - loss: 0.9073 - accuracy: 0.0000e+00\n",
            "Epoch 10/100\n",
            "137/137 [==============================] - 0s 1ms/step - loss: 0.8978 - accuracy: 0.0000e+00\n",
            "Epoch 11/100\n",
            "137/137 [==============================] - 0s 1ms/step - loss: 0.7914 - accuracy: 0.0000e+00\n",
            "Epoch 12/100\n",
            "137/137 [==============================] - 0s 1ms/step - loss: 0.7207 - accuracy: 0.0000e+00\n",
            "Epoch 13/100\n",
            "137/137 [==============================] - 0s 1ms/step - loss: 0.8703 - accuracy: 0.0000e+00\n",
            "Epoch 14/100\n",
            "137/137 [==============================] - 0s 1ms/step - loss: 1.0471 - accuracy: 0.0000e+00\n",
            "Epoch 15/100\n",
            "137/137 [==============================] - 0s 1ms/step - loss: 0.8679 - accuracy: 0.0000e+00\n",
            "Epoch 16/100\n",
            "137/137 [==============================] - 0s 1ms/step - loss: 0.8747 - accuracy: 0.0000e+00\n",
            "Epoch 17/100\n",
            "137/137 [==============================] - 0s 1ms/step - loss: 0.9588 - accuracy: 0.0000e+00\n",
            "Epoch 18/100\n",
            "137/137 [==============================] - 0s 1ms/step - loss: 0.9465 - accuracy: 0.0000e+00\n",
            "Epoch 19/100\n",
            "137/137 [==============================] - 0s 1ms/step - loss: 0.8203 - accuracy: 0.0000e+00\n",
            "Epoch 20/100\n",
            "137/137 [==============================] - 0s 1ms/step - loss: 0.8473 - accuracy: 0.0000e+00\n",
            "Epoch 21/100\n",
            "137/137 [==============================] - 0s 1ms/step - loss: 0.8729 - accuracy: 0.0000e+00\n",
            "Epoch 22/100\n",
            "137/137 [==============================] - 0s 1ms/step - loss: 0.8542 - accuracy: 0.0000e+00\n",
            "Epoch 23/100\n",
            "137/137 [==============================] - 0s 1ms/step - loss: 0.8561 - accuracy: 0.0000e+00\n",
            "Epoch 24/100\n",
            "137/137 [==============================] - 0s 1ms/step - loss: 0.8748 - accuracy: 0.0000e+00\n",
            "Epoch 25/100\n",
            "137/137 [==============================] - 0s 1ms/step - loss: 0.9825 - accuracy: 0.0000e+00\n",
            "Epoch 26/100\n",
            "137/137 [==============================] - 0s 1ms/step - loss: 0.7843 - accuracy: 0.0000e+00\n",
            "Epoch 27/100\n",
            "137/137 [==============================] - 0s 1ms/step - loss: 0.8927 - accuracy: 0.0000e+00\n",
            "Epoch 28/100\n",
            "137/137 [==============================] - 0s 1ms/step - loss: 0.9362 - accuracy: 0.0000e+00\n",
            "Epoch 29/100\n",
            "137/137 [==============================] - 0s 1ms/step - loss: 0.8537 - accuracy: 0.0000e+00\n",
            "Epoch 30/100\n",
            "137/137 [==============================] - 0s 1ms/step - loss: 1.0876 - accuracy: 0.0000e+00\n",
            "Epoch 31/100\n",
            "137/137 [==============================] - 0s 1ms/step - loss: 0.9262 - accuracy: 0.0000e+00\n",
            "Epoch 32/100\n",
            "137/137 [==============================] - 0s 1ms/step - loss: 0.9361 - accuracy: 0.0000e+00\n",
            "Epoch 33/100\n",
            "137/137 [==============================] - 0s 1ms/step - loss: 0.9292 - accuracy: 0.0000e+00\n",
            "Epoch 34/100\n",
            "137/137 [==============================] - 0s 1ms/step - loss: 0.9612 - accuracy: 0.0000e+00\n",
            "Epoch 35/100\n",
            "137/137 [==============================] - 0s 1ms/step - loss: 0.8490 - accuracy: 0.0000e+00\n",
            "Epoch 36/100\n",
            "137/137 [==============================] - 0s 1ms/step - loss: 0.8800 - accuracy: 0.0000e+00\n",
            "Epoch 37/100\n",
            "137/137 [==============================] - 0s 1ms/step - loss: 0.9035 - accuracy: 0.0000e+00\n",
            "Epoch 38/100\n",
            "137/137 [==============================] - 0s 1ms/step - loss: 0.8122 - accuracy: 0.0000e+00\n",
            "Epoch 39/100\n",
            "137/137 [==============================] - 0s 1ms/step - loss: 0.8096 - accuracy: 0.0000e+00\n",
            "Epoch 40/100\n",
            "137/137 [==============================] - 0s 1ms/step - loss: 0.9038 - accuracy: 0.0000e+00\n",
            "Epoch 41/100\n",
            "137/137 [==============================] - 0s 1ms/step - loss: 1.2319 - accuracy: 0.0000e+00\n",
            "Epoch 42/100\n",
            "137/137 [==============================] - 0s 1ms/step - loss: 1.0430 - accuracy: 0.0000e+00\n",
            "Epoch 43/100\n",
            "137/137 [==============================] - 0s 1ms/step - loss: 0.8426 - accuracy: 0.0000e+00\n",
            "Epoch 44/100\n",
            "137/137 [==============================] - 0s 1ms/step - loss: 0.8174 - accuracy: 0.0000e+00\n",
            "Epoch 45/100\n",
            "137/137 [==============================] - 0s 1ms/step - loss: 1.0553 - accuracy: 0.0000e+00\n",
            "Epoch 46/100\n",
            "137/137 [==============================] - 0s 1ms/step - loss: 0.9016 - accuracy: 0.0000e+00\n",
            "Epoch 47/100\n",
            "137/137 [==============================] - 0s 1ms/step - loss: 0.9888 - accuracy: 0.0000e+00\n",
            "Epoch 48/100\n",
            "137/137 [==============================] - 0s 1ms/step - loss: 0.9519 - accuracy: 0.0000e+00\n",
            "Epoch 49/100\n",
            "137/137 [==============================] - 0s 1ms/step - loss: 0.7933 - accuracy: 0.0000e+00\n",
            "Epoch 50/100\n",
            "137/137 [==============================] - 0s 1ms/step - loss: 0.9421 - accuracy: 0.0000e+00\n",
            "Epoch 51/100\n",
            "137/137 [==============================] - 0s 1ms/step - loss: 0.9221 - accuracy: 0.0000e+00\n",
            "Epoch 52/100\n",
            "137/137 [==============================] - 0s 1ms/step - loss: 0.8439 - accuracy: 0.0000e+00\n",
            "Epoch 53/100\n",
            "137/137 [==============================] - 0s 1ms/step - loss: 0.8610 - accuracy: 0.0000e+00\n",
            "Epoch 54/100\n",
            "137/137 [==============================] - 0s 1ms/step - loss: 0.8185 - accuracy: 0.0000e+00\n",
            "Epoch 55/100\n",
            "137/137 [==============================] - 0s 1ms/step - loss: 0.9765 - accuracy: 0.0000e+00\n",
            "Epoch 56/100\n",
            "137/137 [==============================] - 0s 1ms/step - loss: 0.8484 - accuracy: 0.0000e+00\n",
            "Epoch 57/100\n",
            "137/137 [==============================] - 0s 1ms/step - loss: 0.9132 - accuracy: 0.0000e+00\n",
            "Epoch 58/100\n",
            "137/137 [==============================] - 0s 1ms/step - loss: 1.0028 - accuracy: 0.0000e+00\n",
            "Epoch 59/100\n",
            "137/137 [==============================] - 0s 1ms/step - loss: 0.9122 - accuracy: 0.0000e+00\n",
            "Epoch 60/100\n",
            "137/137 [==============================] - 0s 1ms/step - loss: 1.1114 - accuracy: 0.0000e+00\n",
            "Epoch 61/100\n",
            "137/137 [==============================] - 0s 1ms/step - loss: 0.8698 - accuracy: 0.0000e+00\n",
            "Epoch 62/100\n",
            "137/137 [==============================] - 0s 1ms/step - loss: 0.7842 - accuracy: 0.0000e+00\n",
            "Epoch 63/100\n",
            "137/137 [==============================] - 0s 1ms/step - loss: 0.9169 - accuracy: 0.0000e+00\n",
            "Epoch 64/100\n",
            "137/137 [==============================] - 0s 1ms/step - loss: 1.3518 - accuracy: 0.0000e+00\n",
            "Epoch 65/100\n",
            "137/137 [==============================] - 0s 1ms/step - loss: 0.9190 - accuracy: 0.0000e+00\n",
            "Epoch 66/100\n",
            "137/137 [==============================] - 0s 1ms/step - loss: 1.0793 - accuracy: 0.0000e+00\n",
            "Epoch 67/100\n",
            "137/137 [==============================] - 0s 1ms/step - loss: 0.8956 - accuracy: 0.0000e+00\n",
            "Epoch 68/100\n",
            "137/137 [==============================] - 0s 1ms/step - loss: 1.1244 - accuracy: 0.0000e+00\n",
            "Epoch 69/100\n",
            "137/137 [==============================] - 0s 1ms/step - loss: 0.8698 - accuracy: 0.0000e+00\n",
            "Epoch 70/100\n",
            "137/137 [==============================] - 0s 1ms/step - loss: 0.9326 - accuracy: 0.0000e+00\n",
            "Epoch 71/100\n",
            "137/137 [==============================] - 0s 1ms/step - loss: 0.9120 - accuracy: 0.0000e+00\n",
            "Epoch 72/100\n",
            "137/137 [==============================] - 0s 1ms/step - loss: 0.7494 - accuracy: 0.0000e+00\n",
            "Epoch 73/100\n",
            "137/137 [==============================] - 0s 1ms/step - loss: 0.8687 - accuracy: 0.0000e+00\n",
            "Epoch 74/100\n",
            "137/137 [==============================] - 0s 1ms/step - loss: 0.9052 - accuracy: 0.0000e+00\n",
            "Epoch 75/100\n",
            "137/137 [==============================] - 0s 1ms/step - loss: 0.9506 - accuracy: 0.0000e+00\n",
            "Epoch 76/100\n",
            "137/137 [==============================] - 0s 1ms/step - loss: 0.8084 - accuracy: 0.0000e+00\n",
            "Epoch 77/100\n",
            "137/137 [==============================] - 0s 1ms/step - loss: 0.8452 - accuracy: 0.0000e+00\n",
            "Epoch 78/100\n",
            "137/137 [==============================] - 0s 1ms/step - loss: 0.8816 - accuracy: 0.0000e+00\n",
            "Epoch 79/100\n",
            "137/137 [==============================] - 0s 1ms/step - loss: 1.2104 - accuracy: 0.0000e+00\n",
            "Epoch 80/100\n",
            "137/137 [==============================] - 0s 1ms/step - loss: 0.9966 - accuracy: 0.0000e+00\n",
            "Epoch 81/100\n",
            "137/137 [==============================] - 0s 1ms/step - loss: 0.7185 - accuracy: 0.0000e+00\n",
            "Epoch 82/100\n",
            "137/137 [==============================] - 0s 1ms/step - loss: 0.8501 - accuracy: 0.0000e+00\n",
            "Epoch 83/100\n",
            "137/137 [==============================] - 0s 1ms/step - loss: 1.0669 - accuracy: 0.0000e+00\n",
            "Epoch 84/100\n",
            "137/137 [==============================] - 0s 1ms/step - loss: 1.0679 - accuracy: 0.0000e+00\n",
            "Epoch 85/100\n",
            "137/137 [==============================] - 0s 1ms/step - loss: 0.6873 - accuracy: 0.0000e+00\n",
            "Epoch 86/100\n",
            "137/137 [==============================] - 0s 1ms/step - loss: 1.0298 - accuracy: 0.0000e+00\n",
            "Epoch 87/100\n",
            "137/137 [==============================] - 0s 1ms/step - loss: 0.9368 - accuracy: 0.0000e+00\n",
            "Epoch 88/100\n",
            "137/137 [==============================] - 0s 1ms/step - loss: 0.9317 - accuracy: 0.0000e+00\n",
            "Epoch 89/100\n",
            "137/137 [==============================] - 0s 1ms/step - loss: 0.8918 - accuracy: 0.0000e+00\n",
            "Epoch 90/100\n",
            "137/137 [==============================] - 0s 1ms/step - loss: 0.9591 - accuracy: 0.0000e+00\n",
            "Epoch 91/100\n",
            "137/137 [==============================] - 0s 1ms/step - loss: 0.7099 - accuracy: 0.0000e+00\n",
            "Epoch 92/100\n",
            "137/137 [==============================] - 0s 1ms/step - loss: 0.8186 - accuracy: 0.0000e+00\n",
            "Epoch 93/100\n",
            "137/137 [==============================] - 0s 1ms/step - loss: 0.9059 - accuracy: 0.0000e+00\n",
            "Epoch 94/100\n",
            "137/137 [==============================] - 0s 1ms/step - loss: 1.0652 - accuracy: 0.0000e+00\n",
            "Epoch 95/100\n",
            "137/137 [==============================] - 0s 2ms/step - loss: 1.0914 - accuracy: 0.0000e+00\n",
            "Epoch 96/100\n",
            "137/137 [==============================] - 0s 1ms/step - loss: 0.7910 - accuracy: 0.0000e+00\n",
            "Epoch 97/100\n",
            "137/137 [==============================] - 0s 1ms/step - loss: 1.0902 - accuracy: 0.0000e+00\n",
            "Epoch 98/100\n",
            "137/137 [==============================] - 0s 1ms/step - loss: 0.8532 - accuracy: 0.0000e+00\n",
            "Epoch 99/100\n",
            "137/137 [==============================] - 0s 2ms/step - loss: 1.0443 - accuracy: 0.0000e+00\n",
            "Epoch 100/100\n",
            "137/137 [==============================] - 0s 1ms/step - loss: 0.8601 - accuracy: 0.0000e+00\n"
          ],
          "name": "stdout"
        },
        {
          "output_type": "execute_result",
          "data": {
            "text/plain": [
              "<tensorflow.python.keras.callbacks.History at 0x7f48c9d0c0b8>"
            ]
          },
          "metadata": {
            "tags": []
          },
          "execution_count": 95
        }
      ]
    }
  ]
}