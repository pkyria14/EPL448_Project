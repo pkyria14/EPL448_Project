{
  "nbformat": 4,
  "nbformat_minor": 0,
  "metadata": {
    "colab": {
      "name": "Project.ipynb",
      "provenance": [],
      "toc_visible": true,
      "authorship_tag": "ABX9TyMbt6EoCouc1sbhApHP7JGD",
      "include_colab_link": true
    },
    "kernelspec": {
      "name": "python3",
      "display_name": "Python 3"
    }
  },
  "cells": [
    {
      "cell_type": "markdown",
      "metadata": {
        "id": "view-in-github",
        "colab_type": "text"
      },
      "source": [
        "<a href=\"https://colab.research.google.com/github/schatz06/EPL448_Project/blob/main/Project.ipynb\" target=\"_parent\"><img src=\"https://colab.research.google.com/assets/colab-badge.svg\" alt=\"Open In Colab\"/></a>"
      ]
    },
    {
      "cell_type": "markdown",
      "metadata": {
        "id": "lSZ9eR3V62Sl"
      },
      "source": [
        "##Map Driver##"
      ]
    },
    {
      "cell_type": "code",
      "metadata": {
        "colab": {
          "base_uri": "https://localhost:8080/"
        },
        "id": "H6gWIa3e64WR",
        "outputId": "600392f8-970e-4cd3-c9d0-cb111aeee5e6"
      },
      "source": [
        "from google.colab import drive\r\n",
        "drive.mount('/content/drive')"
      ],
      "execution_count": 1,
      "outputs": [
        {
          "output_type": "stream",
          "text": [
            "Mounted at /content/drive\n"
          ],
          "name": "stdout"
        }
      ]
    },
    {
      "cell_type": "markdown",
      "metadata": {
        "id": "aEzG66o-6q4k"
      },
      "source": [
        "##Import Packages ## "
      ]
    },
    {
      "cell_type": "code",
      "metadata": {
        "id": "_w-zmPSb3hbo"
      },
      "source": [
        "import numpy as np \r\n",
        "import pandas as pd \r\n",
        "import matplotlib.pyplot as plt\r\n",
        "import seaborn as sns"
      ],
      "execution_count": 2,
      "outputs": []
    },
    {
      "cell_type": "markdown",
      "metadata": {
        "id": "qZVs8QhC692H"
      },
      "source": [
        "##Read Data##"
      ]
    },
    {
      "cell_type": "code",
      "metadata": {
        "colab": {
          "base_uri": "https://localhost:8080/",
          "height": 293
        },
        "id": "e8JFrF547AWh",
        "outputId": "936b0eb6-052c-49ac-f78b-3371afa81510"
      },
      "source": [
        "train_data = pd.read_excel('/content/drive/MyDrive/EPL448_DATA/Data_Train.xlsx') # read training data\r\n",
        "train_data.head()\r\n",
        "test_data  = pd.read_excel('/content/drive/MyDrive/EPL448_DATA/Data_Test.xlsx') # read test data\r\n",
        "test_data.head()"
      ],
      "execution_count": 4,
      "outputs": [
        {
          "output_type": "execute_result",
          "data": {
            "text/html": [
              "<div>\n",
              "<style scoped>\n",
              "    .dataframe tbody tr th:only-of-type {\n",
              "        vertical-align: middle;\n",
              "    }\n",
              "\n",
              "    .dataframe tbody tr th {\n",
              "        vertical-align: top;\n",
              "    }\n",
              "\n",
              "    .dataframe thead th {\n",
              "        text-align: right;\n",
              "    }\n",
              "</style>\n",
              "<table border=\"1\" class=\"dataframe\">\n",
              "  <thead>\n",
              "    <tr style=\"text-align: right;\">\n",
              "      <th></th>\n",
              "      <th>Title</th>\n",
              "      <th>Author</th>\n",
              "      <th>Edition</th>\n",
              "      <th>Reviews</th>\n",
              "      <th>Ratings</th>\n",
              "      <th>Synopsis</th>\n",
              "      <th>Genre</th>\n",
              "      <th>BookCategory</th>\n",
              "    </tr>\n",
              "  </thead>\n",
              "  <tbody>\n",
              "    <tr>\n",
              "      <th>0</th>\n",
              "      <td>The Complete Sherlock Holmes: 2 Boxes sets</td>\n",
              "      <td>Sir Arthur Conan Doyle</td>\n",
              "      <td>Mass Market Paperback,– 1 Oct 1986</td>\n",
              "      <td>4.4 out of 5 stars</td>\n",
              "      <td>960 customer reviews</td>\n",
              "      <td>A collection of entire body of work of the She...</td>\n",
              "      <td>Short Stories (Books)</td>\n",
              "      <td>Crime, Thriller &amp; Mystery</td>\n",
              "    </tr>\n",
              "    <tr>\n",
              "      <th>1</th>\n",
              "      <td>Learn Docker - Fundamentals of Docker 18.x: Ev...</td>\n",
              "      <td>Gabriel N. Schenker</td>\n",
              "      <td>Paperback,– Import, 26 Apr 2018</td>\n",
              "      <td>5.0 out of 5 stars</td>\n",
              "      <td>1 customer review</td>\n",
              "      <td>Enhance your software deployment workflow usin...</td>\n",
              "      <td>Operating Systems Textbooks</td>\n",
              "      <td>Computing, Internet &amp; Digital Media</td>\n",
              "    </tr>\n",
              "    <tr>\n",
              "      <th>2</th>\n",
              "      <td>Big Girl</td>\n",
              "      <td>Danielle Steel</td>\n",
              "      <td>Paperback,– 17 Mar 2011</td>\n",
              "      <td>5.0 out of 5 stars</td>\n",
              "      <td>4 customer reviews</td>\n",
              "      <td>'Watch out, world. Here I come!'\\nFor Victoria...</td>\n",
              "      <td>Romance (Books)</td>\n",
              "      <td>Romance</td>\n",
              "    </tr>\n",
              "    <tr>\n",
              "      <th>3</th>\n",
              "      <td>Think Python: How to Think Like a Computer Sci...</td>\n",
              "      <td>Allen B. Downey</td>\n",
              "      <td>Paperback,– 2016</td>\n",
              "      <td>4.1 out of 5 stars</td>\n",
              "      <td>11 customer reviews</td>\n",
              "      <td>If you want to learn how to program, working w...</td>\n",
              "      <td>Programming &amp; Software Development (Books)</td>\n",
              "      <td>Computing, Internet &amp; Digital Media</td>\n",
              "    </tr>\n",
              "    <tr>\n",
              "      <th>4</th>\n",
              "      <td>Oxford Word Skills: Advanced - Idioms &amp; Phrasa...</td>\n",
              "      <td>Redman Gairns</td>\n",
              "      <td>Paperback,– 26 Dec 2011</td>\n",
              "      <td>4.4 out of 5 stars</td>\n",
              "      <td>9 customer reviews</td>\n",
              "      <td>Learn and practise the verbs, prepositions and...</td>\n",
              "      <td>Linguistics (Books)</td>\n",
              "      <td>Language, Linguistics &amp; Writing</td>\n",
              "    </tr>\n",
              "  </tbody>\n",
              "</table>\n",
              "</div>"
            ],
            "text/plain": [
              "                                               Title  ...                         BookCategory\n",
              "0         The Complete Sherlock Holmes: 2 Boxes sets  ...            Crime, Thriller & Mystery\n",
              "1  Learn Docker - Fundamentals of Docker 18.x: Ev...  ...  Computing, Internet & Digital Media\n",
              "2                                           Big Girl  ...                              Romance\n",
              "3  Think Python: How to Think Like a Computer Sci...  ...  Computing, Internet & Digital Media\n",
              "4  Oxford Word Skills: Advanced - Idioms & Phrasa...  ...      Language, Linguistics & Writing\n",
              "\n",
              "[5 rows x 8 columns]"
            ]
          },
          "metadata": {
            "tags": []
          },
          "execution_count": 4
        }
      ]
    },
    {
      "cell_type": "markdown",
      "metadata": {
        "id": "T_HnEvEW9Azg"
      },
      "source": [
        "Check for corrupted or empty records"
      ]
    },
    {
      "cell_type": "code",
      "metadata": {
        "id": "RCJcTvO28eMw"
      },
      "source": [
        "print(\"Problematic records in training data: \",train_data.isnull().sum().sum())\r\n",
        "print(\"Problematic records in test data: \",test_data.isnull().sum().sum())"
      ],
      "execution_count": null,
      "outputs": []
    }
  ]
}